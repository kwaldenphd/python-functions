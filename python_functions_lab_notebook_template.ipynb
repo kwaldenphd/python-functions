{
  "nbformat": 4,
  "nbformat_minor": 0,
  "metadata": {
    "colab": {
      "provenance": [],
      "toc_visible": true,
      "authorship_tag": "ABX9TyPH39DYRbshM9+ZvtNB3KLs",
      "include_colab_link": true
    },
    "kernelspec": {
      "name": "python3",
      "display_name": "Python 3"
    },
    "language_info": {
      "name": "python"
    }
  },
  "cells": [
    {
      "cell_type": "markdown",
      "metadata": {
        "id": "view-in-github",
        "colab_type": "text"
      },
      "source": [
        "<a href=\"https://colab.research.google.com/github/kwaldenphd/python-functions/blob/main/python_functions_lab_notebook_template.ipynb\" target=\"_parent\"><img src=\"https://colab.research.google.com/assets/colab-badge.svg\" alt=\"Open In Colab\"/></a>"
      ]
    },
    {
      "cell_type": "markdown",
      "source": [
        "# Functions in Python"
      ],
      "metadata": {
        "id": "7MzhNm9Tt6d3"
      }
    },
    {
      "cell_type": "markdown",
      "metadata": {
        "id": "ff876fb9"
      },
      "source": [
        "Student Name: **Enter Your Name Here (Double click to edit)**\n",
        "<br>\n",
        "Net ID: **Enter Your NetID Here (Double click to edit)**\n",
        "<br>"
      ]
    },
    {
      "cell_type": "markdown",
      "source": [
        "## Lab Notebook Questions"
      ],
      "metadata": {
        "id": "tQARbhvayCrm"
      }
    },
    {
      "cell_type": "markdown",
      "source": [
        "### **Q1A: Describe how you would start building out a program to accomplish this task (print a string a specific number of times)? What functions, statements, or keywords would you need to use? How would you start to organize this program?**\n",
        "\n",
        "**Q1B: See where you can get with writing this program. What parts of the program were you able to get working? Where did you run into challenges? Answer to this question includes program + comments that document process and explain your code.**\n",
        "\n",
        "**Q1C: How does the sample program compare to your approach? What was similar? What was different? How are you thinking differently (if at all) about how to approach this type of program?**\n"
      ],
      "metadata": {
        "id": "pgEKP1FtpExo"
      }
    },
    {
      "cell_type": "markdown",
      "metadata": {
        "id": "L0cFnREpis-5"
      },
      "source": [
        "**AnswerQ1**: Your answer here (double click to edit)"
      ]
    },
    {
      "cell_type": "code",
      "source": [
        "# your codes here (double click to edit)"
      ],
      "metadata": {
        "id": "3ljNdsyxpQRa"
      },
      "execution_count": null,
      "outputs": []
    },
    {
      "cell_type": "markdown",
      "source": [
        "### **Q2A: Modify the program you built for the previous section of the lab to take specific values as inputs (rather than get inputs as part of the function). Answer to this question includes program + comments that document process and explain your code.**\n",
        "\n",
        "**Q2B: Then, create a named function and function call for this program. Answer to this question includes program + comments that document process and explain your code.**\n",
        "\n",
        "**Q2C: What parts of the program were you able to get working? Where did you run into challenges?**"
      ],
      "metadata": {
        "id": "FembQg4kp_M2"
      }
    },
    {
      "cell_type": "markdown",
      "metadata": {
        "id": "v2XYT06SpfJQ"
      },
      "source": [
        "**AnswerQ2**: Your answer here (double click to edit)"
      ]
    },
    {
      "cell_type": "code",
      "source": [
        "# your codes here (double click to edit)"
      ],
      "metadata": {
        "id": "tY_xjVyoiRLu"
      },
      "execution_count": null,
      "outputs": []
    },
    {
      "cell_type": "markdown",
      "source": [
        "### **Q3: Write a function is_even that determines whether or not a number n is even. Include the function definition as well as a sample function call. Answer to this question includes program + comments that document process and explain your code.**"
      ],
      "metadata": {
        "id": "3URjcSZDpbFu"
      }
    },
    {
      "cell_type": "markdown",
      "metadata": {
        "id": "mB-kFikxis_I"
      },
      "source": [
        "**AnswerQ3:** Your answer here (double click to edit)"
      ]
    },
    {
      "cell_type": "code",
      "source": [
        "# your codes here (double click to edit)"
      ],
      "metadata": {
        "id": "UEfw6psfpgsa"
      },
      "execution_count": null,
      "outputs": []
    },
    {
      "cell_type": "markdown",
      "source": [
        "### **Q4: Write a function average that determines the average value of a list. Include the function definition as well as a sample function call. Answer to this question includes program + comments that document process and explain your code.**"
      ],
      "metadata": {
        "id": "NIornfjZpmFy"
      }
    },
    {
      "cell_type": "markdown",
      "metadata": {
        "id": "Cf3iN_D7is_N"
      },
      "source": [
        "**AnswerQ4:** Your answer here (double click to edit)"
      ]
    },
    {
      "cell_type": "code",
      "execution_count": null,
      "metadata": {
        "id": "r_wK6Djjd3TQ"
      },
      "outputs": [],
      "source": [
        "# your codes here (double click to edit)"
      ]
    },
    {
      "cell_type": "markdown",
      "source": [
        "### **Q5: Write a function uniq that takes a list and returns a new list containing only unique values. Include the function definition as well as a sample function call. Answer to this question includes program + comments that document process and explain your code.**"
      ],
      "metadata": {
        "id": "ymUHiLayptBD"
      }
    },
    {
      "cell_type": "markdown",
      "metadata": {
        "id": "3BAA-_Vyis_X"
      },
      "source": [
        "**AnswerQ5:** Your answer here (double click to edit)"
      ]
    },
    {
      "cell_type": "code",
      "execution_count": null,
      "metadata": {
        "id": "9lT7urowd9w3"
      },
      "outputs": [],
      "source": [
        "# your codes here (double click to edit)"
      ]
    },
    {
      "cell_type": "markdown",
      "source": [
        "### **Q6A: Select one of the following Python modules to explore:**\n",
        "- `[numbers](https://docs.python.org/3/library/numbers.html)` (numeric abstract base classes)\n",
        "- `[math](https://docs.python.org/3/library/math.html)` (mathematical functions)\n",
        "- `[cmath](https://docs.python.org/3/library/cmath.html)` (mathematical functions for complex numbers)\n",
        "- `[decimal](https://docs.python.org/3/library/decimal.html)` (decimal fixed point and floating arithmetic)\n",
        "- `[fractions](https://docs.python.org/3/library/fractions.html)` (rational numbers)\n",
        "- `[random](https://docs.python.org/3/library/random.html)` (generate pseudo-random numbers)\n",
        "- `[statistics](https://docs.python.org/3/library/statistics.html)` (mathematical statistics functions)\n",
        "\n",
        "Or one of the other modules (starting with \"Numeric and Mathematical Modules\") on the [Python Standard Library](https://docs.python.org/3/library/) page.\n",
        "\n",
        "**Q6B: Explore the Python documentation (and other materials as needed) to address the following questions:**\n",
        "- What is this module designed to do, or what kinds of tasks does it support?\n",
        "- What are some of the specific functions contained in this module?\n",
        "- How would we import this module into a Python program? \n",
        "- How would we import specific functions from this module into a Python program?\n",
        "\n",
        "NOTE: The last two items (importing the module, importing functions from the module) involve a code component. Your answer for these items should include a Python program + comments that document process and explain your code."
      ],
      "metadata": {
        "id": "HtUKT1xNqJQy"
      }
    },
    {
      "cell_type": "markdown",
      "metadata": {
        "id": "hcRpdIN_is_b"
      },
      "source": [
        "**AnswerQ6:** Your answer here (double click to edit)"
      ]
    },
    {
      "cell_type": "code",
      "execution_count": null,
      "metadata": {
        "id": "cBAd2bpPqUn2"
      },
      "outputs": [],
      "source": [
        "# your codes here (double click to edit)"
      ]
    },
    {
      "cell_type": "markdown",
      "source": [
        "### **Q7: Describe in your own words the value or utility of functions, particularly in relation to the concepts of code reuse and modularity.**\n",
        "- NOTE: You are welcome to include code as part of this answer, but a code component is not required."
      ],
      "metadata": {
        "id": "vu71MpmSivh5"
      }
    },
    {
      "cell_type": "markdown",
      "metadata": {
        "id": "tihNYy4uis_c"
      },
      "source": [
        "**AnswerQ7:** Your answer here (double click to edit)"
      ]
    },
    {
      "cell_type": "code",
      "execution_count": null,
      "metadata": {
        "id": "QIfSeDcOi2Hb"
      },
      "outputs": [],
      "source": [
        "# your codes here (double click to edit)"
      ]
    }
  ]
}
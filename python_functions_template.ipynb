{
  "cells": [
    {
      "cell_type": "markdown",
      "metadata": {
        "id": "view-in-github",
        "colab_type": "text"
      },
      "source": [
        "<a href=\"https://colab.research.google.com/github/kwaldenphd/python-functions/blob/main/python_functions_template.ipynb\" target=\"_parent\"><img src=\"https://colab.research.google.com/assets/colab-badge.svg\" alt=\"Open In Colab\"/></a>"
      ]
    },
    {
      "cell_type": "markdown",
      "metadata": {
        "id": "MOKFnJX_XX46"
      },
      "source": [
        "# Functions in Python\n",
        "\n",
        "Student Name: **Enter Your Name Here (Double click to edit)**\n",
        "<br>\n",
        "Net ID: **Enter Your NetID Here (Double click to edit)**\n",
        "<br>"
      ]
    },
    {
      "cell_type": "markdown",
      "source": [
        "## Lab Notebook Questions"
      ],
      "metadata": {
        "id": "gqIWWqMtXou6"
      }
    },
    {
      "cell_type": "markdown",
      "metadata": {
        "id": "qKjNBec-XX5A"
      },
      "source": [
        "### **Q1: Describe how you would start building out code to accomplish this task? What functions, statements, or keywords would you need to use? How would you start to organize this program?**"
      ]
    },
    {
      "cell_type": "markdown",
      "metadata": {
        "id": "Ins9YczQXX5E"
      },
      "source": [
        "**AnswerQ1:** Your answer here (double click to edit)"
      ]
    },
    {
      "cell_type": "code",
      "execution_count": null,
      "metadata": {
        "id": "8h09NNnQXX5H"
      },
      "outputs": [],
      "source": [
        "# your codes here (if needed)"
      ]
    },
    {
      "cell_type": "markdown",
      "metadata": {
        "id": "0pKIs9CCXX5K"
      },
      "source": [
        "### **Q2: See where you can get with writing this program. What parts of the program were you able to get working? Where did you run into challenges?**"
      ]
    },
    {
      "cell_type": "markdown",
      "metadata": {
        "id": "0D1IJcZyXX5L"
      },
      "source": [
        "**AnswerQ2:** Your answer here (double click to edit)"
      ]
    },
    {
      "cell_type": "code",
      "execution_count": null,
      "metadata": {
        "id": "jIHeX2XyXX5N"
      },
      "outputs": [],
      "source": [
        "# your codes here (if needed)"
      ]
    },
    {
      "cell_type": "markdown",
      "metadata": {
        "id": "fOnYx5sEXX5O"
      },
      "source": [
        "### **Q3: How does the sample program compare to your approach to the previous two questions? What was similar? What was different? How are you thinking differently (if at all) about how to approach this type of program?**"
      ]
    },
    {
      "cell_type": "markdown",
      "metadata": {
        "id": "uqZVyxJ3XX5P"
      },
      "source": [
        "**AnswerQ3:** Your answer here (double click to edit)"
      ]
    },
    {
      "cell_type": "code",
      "execution_count": null,
      "metadata": {
        "id": "aI8s7gJEXX5R"
      },
      "outputs": [],
      "source": [
        "# your codes here (if needed)"
      ]
    },
    {
      "cell_type": "markdown",
      "metadata": {
        "id": "hML0LUhCXX5R"
      },
      "source": [
        "### **Q4: How would you write a program that calls the function you have created? Include code + comments.**"
      ]
    },
    {
      "cell_type": "markdown",
      "metadata": {
        "id": "8d4SL5l2XX5V"
      },
      "source": [
        "**AnswerQ4:** Your answer here (double click to edit)"
      ]
    },
    {
      "cell_type": "code",
      "execution_count": null,
      "metadata": {
        "id": "NQBd5Px_XX5W"
      },
      "outputs": [],
      "source": [
        "# your codes here (if needed)"
      ]
    },
    {
      "cell_type": "markdown",
      "metadata": {
        "id": "7Iu5gQtbXX5X"
      },
      "source": [
        "### **Q5: Write a function is_even that determines whether or not a number n is even. Include code + comments for the function definition as well as a sample function call.**"
      ]
    },
    {
      "cell_type": "markdown",
      "metadata": {
        "id": "M75_MMwiXX5Z"
      },
      "source": [
        "**AnswerQ5:** Your answer here (double click to edit)"
      ]
    },
    {
      "cell_type": "code",
      "execution_count": null,
      "metadata": {
        "id": "1UutrFWaXX5a"
      },
      "outputs": [],
      "source": [
        "# your codes here (double click to edit)\n",
        "\n",
        "# function definition\n",
        "\n",
        "# function call"
      ]
    },
    {
      "cell_type": "markdown",
      "metadata": {
        "id": "sEEqj6iDXX5c"
      },
      "source": [
        "### **Q6: Write a function average that determines the average value of a list. Include code + comments for the function definition as well as a sample function call.**"
      ]
    },
    {
      "cell_type": "markdown",
      "metadata": {
        "id": "IjrR4r0cXX5e"
      },
      "source": [
        "**AnswerQ6:** Your answer here (double click to edit)"
      ]
    },
    {
      "cell_type": "code",
      "execution_count": null,
      "metadata": {
        "id": "ZyB9i5ExXxTc"
      },
      "outputs": [],
      "source": [
        "# your codes here (double click to edit)\n",
        "\n",
        "# function definition\n",
        "\n",
        "# function call"
      ]
    },
    {
      "cell_type": "markdown",
      "metadata": {
        "id": "UU_Ixq0MXX5f"
      },
      "source": [
        "### **Q7: Write a function uniq that takes a list and returns a new list containing only unique values. Include code + comments for the function definition as well as a sample function call.**"
      ]
    },
    {
      "cell_type": "markdown",
      "metadata": {
        "id": "gwZFJ5qwXX5f"
      },
      "source": [
        "**AnswerQ7:** Your answer here (double click to edit)"
      ]
    },
    {
      "cell_type": "code",
      "execution_count": null,
      "metadata": {
        "id": "fkLJYX1bXyYT"
      },
      "outputs": [],
      "source": [
        "# your codes here (double click to edit)\n",
        "\n",
        "# function definition\n",
        "\n",
        "# function call"
      ]
    },
    {
      "cell_type": "markdown",
      "metadata": {
        "id": "6hqhuxEKXX5g"
      },
      "source": [
        "### **Q8: The Python code below is suppose to create a function that determines if the given list of numbers is sorted. That is, the function should return True if each item in the list is less than the next item. Unfortunately, there are a few errors in the code below. Identify the errors and fix the code. Include your modified code with comments that document what changes you made to address the errors.**"
      ]
    },
    {
      "cell_type": "code",
      "execution_count": null,
      "metadata": {
        "id": "IapN2w4gXX5h"
      },
      "outputs": [],
      "source": [
        "# program to debug for Q8 \n",
        "\n",
        "is_sorted([1, 2, 3, 4, 2])\n",
        "\n",
        "def is_sorted(numbers):\n",
        "    ''' Return whether or not the list of numbers is sorted '''\n",
        "    for i in range(len(numbers) - 1):\n",
        "        if numbers[i] > numbers[i + 1]:\n",
        "            return False\n",
        "    return True"
      ]
    },
    {
      "cell_type": "markdown",
      "metadata": {
        "id": "5c_mv9gGXX5i"
      },
      "source": [
        "**AnswerQ8:** Your answer here (double click to edit)"
      ]
    },
    {
      "cell_type": "code",
      "execution_count": null,
      "metadata": {
        "id": "fhP0rqkoXX5j"
      },
      "outputs": [],
      "source": [
        "# your codes here (if needed)"
      ]
    },
    {
      "cell_type": "markdown",
      "metadata": {
        "id": "mnSjP90yXX5j"
      },
      "source": [
        "### **Q9: In your own words, what is a function?**"
      ]
    },
    {
      "cell_type": "markdown",
      "metadata": {
        "id": "D7NKGyqrXX5k"
      },
      "source": [
        "**AnswerQ9:** Your answer here (double click to edit)"
      ]
    },
    {
      "cell_type": "code",
      "execution_count": null,
      "metadata": {
        "id": "t919BxGdXX5l"
      },
      "outputs": [],
      "source": [
        "# your codes here (if needed)"
      ]
    },
    {
      "cell_type": "markdown",
      "metadata": {
        "id": "XdZHHjRJXX5n"
      },
      "source": [
        "### **Q10: In your own words, how do we create a function?**"
      ]
    },
    {
      "cell_type": "markdown",
      "metadata": {
        "id": "vwnzwkW9XX5n"
      },
      "source": [
        "**AnswerQ10:** Your answer here (double click to edit)"
      ]
    },
    {
      "cell_type": "code",
      "execution_count": null,
      "metadata": {
        "id": "IeWzDgZsXX5o"
      },
      "outputs": [],
      "source": [
        "# your codes here (if needed)"
      ]
    },
    {
      "cell_type": "markdown",
      "metadata": {
        "id": "wNi4zSsVXX5p"
      },
      "source": [
        "### **Q11: In your own words, what is an argument or parameter?**"
      ]
    },
    {
      "cell_type": "markdown",
      "metadata": {
        "id": "WQJQdChCXX5q"
      },
      "source": [
        "**AnswerQ11:** Your answer here (double click to edit)"
      ]
    },
    {
      "cell_type": "code",
      "execution_count": null,
      "metadata": {
        "id": "VGJ2Yst7XX5q"
      },
      "outputs": [],
      "source": [
        "# your codes here (if needed)"
      ]
    },
    {
      "cell_type": "markdown",
      "metadata": {
        "id": "F0t-Q_2tXX5r"
      },
      "source": [
        "### **Q12: In your own words, what is a return value?**"
      ]
    },
    {
      "cell_type": "markdown",
      "metadata": {
        "id": "MQ4BSmCJXX5r"
      },
      "source": [
        "**AnswerQ12:** Your answer here (double click to edit)"
      ]
    },
    {
      "cell_type": "code",
      "execution_count": null,
      "metadata": {
        "id": "4nrd8wCTXX5s"
      },
      "outputs": [],
      "source": [
        "# your codes here (if needed)"
      ]
    },
    {
      "cell_type": "markdown",
      "metadata": {
        "id": "wyUo8wwpXX5t"
      },
      "source": [
        "### **Q13: Why would we use functions, or what is the value of functions?**"
      ]
    },
    {
      "cell_type": "markdown",
      "metadata": {
        "id": "c-ILJpprXX5u"
      },
      "source": [
        "**AnswerQ13:** Your answer here (double click to edit)"
      ]
    },
    {
      "cell_type": "code",
      "execution_count": null,
      "metadata": {
        "id": "-gZJ8Z6SXX5u"
      },
      "outputs": [],
      "source": [
        "# your codes here (if needed)"
      ]
    }
  ],
  "metadata": {
    "kernelspec": {
      "display_name": "Python 3",
      "language": "python",
      "name": "python3"
    },
    "language_info": {
      "codemirror_mode": {
        "name": "ipython",
        "version": 3
      },
      "file_extension": ".py",
      "mimetype": "text/x-python",
      "name": "python",
      "nbconvert_exporter": "python",
      "pygments_lexer": "ipython3",
      "version": "3.8.5"
    },
    "colab": {
      "name": "python-functions-template.ipynb",
      "provenance": [],
      "toc_visible": true,
      "include_colab_link": true
    }
  },
  "nbformat": 4,
  "nbformat_minor": 0
}